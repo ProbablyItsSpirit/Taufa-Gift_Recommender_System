{
  "nbformat": 4,
  "nbformat_minor": 0,
  "metadata": {
    "colab": {
      "provenance": []
    },
    "kernelspec": {
      "name": "python3",
      "display_name": "Python 3"
    },
    "language_info": {
      "name": "python"
    }
  },
  "cells": [
    {
      "cell_type": "markdown",
      "source": [
        "# **Pre processing Dataset**"
      ],
      "metadata": {
        "id": "dSXCJRgdEo0u"
      }
    },
    {
      "cell_type": "code",
      "execution_count": 47,
      "metadata": {
        "id": "nxGo-wBlD3i0"
      },
      "outputs": [],
      "source": [
        "import pandas as pd\n",
        "df = pd.read_csv(\"https://raw.githubusercontent.com/ProbablyItsSpirit/Taufa-Gift_Recommender_System/refs/heads/main/(Kaggle)%20amazon_product_dataset_2020.csv\")"
      ]
    },
    {
      "cell_type": "markdown",
      "source": [
        "### Removing unwanted coloumns"
      ],
      "metadata": {
        "id": "GXpG1HVSElRR"
      }
    },
    {
      "cell_type": "code",
      "source": [
        "columns_to_keep = [\"Uniq Id\", \"Product Name\", \"Category\", \"Selling Price\", \"Product Url\"]\n",
        "df = df[columns_to_keep].copy()\n"
      ],
      "metadata": {
        "id": "hvcX0csFKouT"
      },
      "execution_count": 48,
      "outputs": []
    },
    {
      "cell_type": "markdown",
      "source": [
        "### Renaming Coloumns"
      ],
      "metadata": {
        "id": "bK-2u_mjFUaL"
      }
    },
    {
      "cell_type": "code",
      "source": [
        "df.rename(columns={\n",
        "    \"Uniq Id\": \"Uid\",\n",
        "    \"Product Name\": \"Name\",\n",
        "    \"Selling Price\": \"Price\",\n",
        "    \"Product Url\": \"Link\"\n",
        "}, inplace=True)"
      ],
      "metadata": {
        "id": "YA_8Xs8EKqyl"
      },
      "execution_count": 50,
      "outputs": []
    },
    {
      "cell_type": "markdown",
      "source": [
        "### Handling missing values"
      ],
      "metadata": {
        "id": "TOeEcdnqFhSs"
      }
    },
    {
      "cell_type": "code",
      "source": [
        "df.dropna(axis=1, thresh=len(df) * 0.3, inplace=True)\n",
        "df[\"Category\"] = df[\"Category\"].fillna(\"Unknown\")\n"
      ],
      "metadata": {
        "id": "jYD3tE3nKuQN"
      },
      "execution_count": 51,
      "outputs": []
    },
    {
      "cell_type": "code",
      "source": [
        "df[\"Price\"] = df[\"Price\"].str.extract(r'(\\d+\\.\\d+)')\n",
        "df[\"Price\"] = df[\"Price\"].astype(float)\n"
      ],
      "metadata": {
        "id": "5yG_CGKnKwrl"
      },
      "execution_count": 52,
      "outputs": []
    },
    {
      "cell_type": "markdown",
      "source": [
        "### Adding an 'Age Group' column"
      ],
      "metadata": {
        "id": "d2BD4pmwIDXP"
      }
    },
    {
      "cell_type": "code",
      "source": [
        "def assign_age_group(category):\n",
        "    category = str(category)\n",
        "    if \"Toys\" in category or \"Games\" in category:\n",
        "        return \"8-12 years\"\n",
        "    elif \"Electronics\" in category or \"Gadgets\" in category:\n",
        "        return \"13+ years\"\n",
        "    else:\n",
        "        return \"General\"\n",
        "\n",
        "df[\"Age Group\"] = df[\"Category\"].apply(assign_age_group)\n"
      ],
      "metadata": {
        "id": "5XlRHkXSJ4r1"
      },
      "execution_count": 53,
      "outputs": []
    },
    {
      "cell_type": "markdown",
      "source": [
        "### Generating Uid"
      ],
      "metadata": {
        "id": "lkrQHplHLcf7"
      }
    },
    {
      "cell_type": "code",
      "source": [
        "def generate_uid(index, category):\n",
        "    category = str(category).lower()\n",
        "    if \"toys\" in category or \"games\" in category:\n",
        "        prefix = \"T\"\n",
        "    elif \"electronics\" in category or \"gadgets\" in category:\n",
        "        prefix = \"E\"\n",
        "    elif \"sports\" in category or \"outdoor\" in category:\n",
        "        prefix = \"S\"\n",
        "    else:\n",
        "        prefix = \"G\"\n",
        "\n",
        "    return f\"{prefix}{str(index+1).zfill(3)}\"\n",
        "\n",
        "df[\"Uid\"] = [generate_uid(i, cat) for i, cat in enumerate(df[\"Category\"])]\n"
      ],
      "metadata": {
        "id": "x7SJThzZK2yU"
      },
      "execution_count": 55,
      "outputs": []
    },
    {
      "cell_type": "code",
      "source": [
        "df.head()"
      ],
      "metadata": {
        "colab": {
          "base_uri": "https://localhost:8080/",
          "height": 206
        },
        "id": "E7K1X2TdMFqs",
        "outputId": "9f70e7fc-99d8-41d1-ede1-78bd7f6ab75b"
      },
      "execution_count": 57,
      "outputs": [
        {
          "output_type": "execute_result",
          "data": {
            "text/plain": [
              "    Uid                                               Name  \\\n",
              "0  S001  DB Longboards CoreFlex Crossbow 41\" Bamboo Fib...   \n",
              "1  T002  Electronic Snap Circuits Mini Kits Classpack, ...   \n",
              "2  T003  3Doodler Create Flexy 3D Printing Filament Ref...   \n",
              "3  T004  Guillow Airplane Design Studio with Travel Cas...   \n",
              "4  T005                   Woodstock- Collage 500 pc Puzzle   \n",
              "\n",
              "                                            Category   Price  \\\n",
              "0  Sports & Outdoors | Outdoor Recreation | Skate...  237.68   \n",
              "1  Toys & Games | Learning & Education | Science ...   99.95   \n",
              "2          Toys & Games | Arts & Crafts | Craft Kits   34.99   \n",
              "3  Toys & Games | Hobbies | Models & Model Kits |...   28.91   \n",
              "4            Toys & Games | Puzzles | Jigsaw Puzzles   17.49   \n",
              "\n",
              "                                                Link   Age Group  \n",
              "0  https://www.amazon.com/DB-Longboards-CoreFlex-...     General  \n",
              "1  https://www.amazon.com/Electronic-Circuits-Cla...  8-12 years  \n",
              "2  https://www.amazon.com/3Doodler-Plastic-Innova...  8-12 years  \n",
              "3  https://www.amazon.com/Guillow-Airplane-Design...  8-12 years  \n",
              "4  https://www.amazon.com/Woodstock-Collage-500-p...  8-12 years  "
            ],
            "text/html": [
              "\n",
              "  <div id=\"df-42825d66-429e-415b-b3f3-ad12428b87c2\" class=\"colab-df-container\">\n",
              "    <div>\n",
              "<style scoped>\n",
              "    .dataframe tbody tr th:only-of-type {\n",
              "        vertical-align: middle;\n",
              "    }\n",
              "\n",
              "    .dataframe tbody tr th {\n",
              "        vertical-align: top;\n",
              "    }\n",
              "\n",
              "    .dataframe thead th {\n",
              "        text-align: right;\n",
              "    }\n",
              "</style>\n",
              "<table border=\"1\" class=\"dataframe\">\n",
              "  <thead>\n",
              "    <tr style=\"text-align: right;\">\n",
              "      <th></th>\n",
              "      <th>Uid</th>\n",
              "      <th>Name</th>\n",
              "      <th>Category</th>\n",
              "      <th>Price</th>\n",
              "      <th>Link</th>\n",
              "      <th>Age Group</th>\n",
              "    </tr>\n",
              "  </thead>\n",
              "  <tbody>\n",
              "    <tr>\n",
              "      <th>0</th>\n",
              "      <td>S001</td>\n",
              "      <td>DB Longboards CoreFlex Crossbow 41\" Bamboo Fib...</td>\n",
              "      <td>Sports &amp; Outdoors | Outdoor Recreation | Skate...</td>\n",
              "      <td>237.68</td>\n",
              "      <td>https://www.amazon.com/DB-Longboards-CoreFlex-...</td>\n",
              "      <td>General</td>\n",
              "    </tr>\n",
              "    <tr>\n",
              "      <th>1</th>\n",
              "      <td>T002</td>\n",
              "      <td>Electronic Snap Circuits Mini Kits Classpack, ...</td>\n",
              "      <td>Toys &amp; Games | Learning &amp; Education | Science ...</td>\n",
              "      <td>99.95</td>\n",
              "      <td>https://www.amazon.com/Electronic-Circuits-Cla...</td>\n",
              "      <td>8-12 years</td>\n",
              "    </tr>\n",
              "    <tr>\n",
              "      <th>2</th>\n",
              "      <td>T003</td>\n",
              "      <td>3Doodler Create Flexy 3D Printing Filament Ref...</td>\n",
              "      <td>Toys &amp; Games | Arts &amp; Crafts | Craft Kits</td>\n",
              "      <td>34.99</td>\n",
              "      <td>https://www.amazon.com/3Doodler-Plastic-Innova...</td>\n",
              "      <td>8-12 years</td>\n",
              "    </tr>\n",
              "    <tr>\n",
              "      <th>3</th>\n",
              "      <td>T004</td>\n",
              "      <td>Guillow Airplane Design Studio with Travel Cas...</td>\n",
              "      <td>Toys &amp; Games | Hobbies | Models &amp; Model Kits |...</td>\n",
              "      <td>28.91</td>\n",
              "      <td>https://www.amazon.com/Guillow-Airplane-Design...</td>\n",
              "      <td>8-12 years</td>\n",
              "    </tr>\n",
              "    <tr>\n",
              "      <th>4</th>\n",
              "      <td>T005</td>\n",
              "      <td>Woodstock- Collage 500 pc Puzzle</td>\n",
              "      <td>Toys &amp; Games | Puzzles | Jigsaw Puzzles</td>\n",
              "      <td>17.49</td>\n",
              "      <td>https://www.amazon.com/Woodstock-Collage-500-p...</td>\n",
              "      <td>8-12 years</td>\n",
              "    </tr>\n",
              "  </tbody>\n",
              "</table>\n",
              "</div>\n",
              "    <div class=\"colab-df-buttons\">\n",
              "\n",
              "  <div class=\"colab-df-container\">\n",
              "    <button class=\"colab-df-convert\" onclick=\"convertToInteractive('df-42825d66-429e-415b-b3f3-ad12428b87c2')\"\n",
              "            title=\"Convert this dataframe to an interactive table.\"\n",
              "            style=\"display:none;\">\n",
              "\n",
              "  <svg xmlns=\"http://www.w3.org/2000/svg\" height=\"24px\" viewBox=\"0 -960 960 960\">\n",
              "    <path d=\"M120-120v-720h720v720H120Zm60-500h600v-160H180v160Zm220 220h160v-160H400v160Zm0 220h160v-160H400v160ZM180-400h160v-160H180v160Zm440 0h160v-160H620v160ZM180-180h160v-160H180v160Zm440 0h160v-160H620v160Z\"/>\n",
              "  </svg>\n",
              "    </button>\n",
              "\n",
              "  <style>\n",
              "    .colab-df-container {\n",
              "      display:flex;\n",
              "      gap: 12px;\n",
              "    }\n",
              "\n",
              "    .colab-df-convert {\n",
              "      background-color: #E8F0FE;\n",
              "      border: none;\n",
              "      border-radius: 50%;\n",
              "      cursor: pointer;\n",
              "      display: none;\n",
              "      fill: #1967D2;\n",
              "      height: 32px;\n",
              "      padding: 0 0 0 0;\n",
              "      width: 32px;\n",
              "    }\n",
              "\n",
              "    .colab-df-convert:hover {\n",
              "      background-color: #E2EBFA;\n",
              "      box-shadow: 0px 1px 2px rgba(60, 64, 67, 0.3), 0px 1px 3px 1px rgba(60, 64, 67, 0.15);\n",
              "      fill: #174EA6;\n",
              "    }\n",
              "\n",
              "    .colab-df-buttons div {\n",
              "      margin-bottom: 4px;\n",
              "    }\n",
              "\n",
              "    [theme=dark] .colab-df-convert {\n",
              "      background-color: #3B4455;\n",
              "      fill: #D2E3FC;\n",
              "    }\n",
              "\n",
              "    [theme=dark] .colab-df-convert:hover {\n",
              "      background-color: #434B5C;\n",
              "      box-shadow: 0px 1px 3px 1px rgba(0, 0, 0, 0.15);\n",
              "      filter: drop-shadow(0px 1px 2px rgba(0, 0, 0, 0.3));\n",
              "      fill: #FFFFFF;\n",
              "    }\n",
              "  </style>\n",
              "\n",
              "    <script>\n",
              "      const buttonEl =\n",
              "        document.querySelector('#df-42825d66-429e-415b-b3f3-ad12428b87c2 button.colab-df-convert');\n",
              "      buttonEl.style.display =\n",
              "        google.colab.kernel.accessAllowed ? 'block' : 'none';\n",
              "\n",
              "      async function convertToInteractive(key) {\n",
              "        const element = document.querySelector('#df-42825d66-429e-415b-b3f3-ad12428b87c2');\n",
              "        const dataTable =\n",
              "          await google.colab.kernel.invokeFunction('convertToInteractive',\n",
              "                                                    [key], {});\n",
              "        if (!dataTable) return;\n",
              "\n",
              "        const docLinkHtml = 'Like what you see? Visit the ' +\n",
              "          '<a target=\"_blank\" href=https://colab.research.google.com/notebooks/data_table.ipynb>data table notebook</a>'\n",
              "          + ' to learn more about interactive tables.';\n",
              "        element.innerHTML = '';\n",
              "        dataTable['output_type'] = 'display_data';\n",
              "        await google.colab.output.renderOutput(dataTable, element);\n",
              "        const docLink = document.createElement('div');\n",
              "        docLink.innerHTML = docLinkHtml;\n",
              "        element.appendChild(docLink);\n",
              "      }\n",
              "    </script>\n",
              "  </div>\n",
              "\n",
              "\n",
              "<div id=\"df-b282f23e-c131-4584-ba02-1ac07cc68367\">\n",
              "  <button class=\"colab-df-quickchart\" onclick=\"quickchart('df-b282f23e-c131-4584-ba02-1ac07cc68367')\"\n",
              "            title=\"Suggest charts\"\n",
              "            style=\"display:none;\">\n",
              "\n",
              "<svg xmlns=\"http://www.w3.org/2000/svg\" height=\"24px\"viewBox=\"0 0 24 24\"\n",
              "     width=\"24px\">\n",
              "    <g>\n",
              "        <path d=\"M19 3H5c-1.1 0-2 .9-2 2v14c0 1.1.9 2 2 2h14c1.1 0 2-.9 2-2V5c0-1.1-.9-2-2-2zM9 17H7v-7h2v7zm4 0h-2V7h2v10zm4 0h-2v-4h2v4z\"/>\n",
              "    </g>\n",
              "</svg>\n",
              "  </button>\n",
              "\n",
              "<style>\n",
              "  .colab-df-quickchart {\n",
              "      --bg-color: #E8F0FE;\n",
              "      --fill-color: #1967D2;\n",
              "      --hover-bg-color: #E2EBFA;\n",
              "      --hover-fill-color: #174EA6;\n",
              "      --disabled-fill-color: #AAA;\n",
              "      --disabled-bg-color: #DDD;\n",
              "  }\n",
              "\n",
              "  [theme=dark] .colab-df-quickchart {\n",
              "      --bg-color: #3B4455;\n",
              "      --fill-color: #D2E3FC;\n",
              "      --hover-bg-color: #434B5C;\n",
              "      --hover-fill-color: #FFFFFF;\n",
              "      --disabled-bg-color: #3B4455;\n",
              "      --disabled-fill-color: #666;\n",
              "  }\n",
              "\n",
              "  .colab-df-quickchart {\n",
              "    background-color: var(--bg-color);\n",
              "    border: none;\n",
              "    border-radius: 50%;\n",
              "    cursor: pointer;\n",
              "    display: none;\n",
              "    fill: var(--fill-color);\n",
              "    height: 32px;\n",
              "    padding: 0;\n",
              "    width: 32px;\n",
              "  }\n",
              "\n",
              "  .colab-df-quickchart:hover {\n",
              "    background-color: var(--hover-bg-color);\n",
              "    box-shadow: 0 1px 2px rgba(60, 64, 67, 0.3), 0 1px 3px 1px rgba(60, 64, 67, 0.15);\n",
              "    fill: var(--button-hover-fill-color);\n",
              "  }\n",
              "\n",
              "  .colab-df-quickchart-complete:disabled,\n",
              "  .colab-df-quickchart-complete:disabled:hover {\n",
              "    background-color: var(--disabled-bg-color);\n",
              "    fill: var(--disabled-fill-color);\n",
              "    box-shadow: none;\n",
              "  }\n",
              "\n",
              "  .colab-df-spinner {\n",
              "    border: 2px solid var(--fill-color);\n",
              "    border-color: transparent;\n",
              "    border-bottom-color: var(--fill-color);\n",
              "    animation:\n",
              "      spin 1s steps(1) infinite;\n",
              "  }\n",
              "\n",
              "  @keyframes spin {\n",
              "    0% {\n",
              "      border-color: transparent;\n",
              "      border-bottom-color: var(--fill-color);\n",
              "      border-left-color: var(--fill-color);\n",
              "    }\n",
              "    20% {\n",
              "      border-color: transparent;\n",
              "      border-left-color: var(--fill-color);\n",
              "      border-top-color: var(--fill-color);\n",
              "    }\n",
              "    30% {\n",
              "      border-color: transparent;\n",
              "      border-left-color: var(--fill-color);\n",
              "      border-top-color: var(--fill-color);\n",
              "      border-right-color: var(--fill-color);\n",
              "    }\n",
              "    40% {\n",
              "      border-color: transparent;\n",
              "      border-right-color: var(--fill-color);\n",
              "      border-top-color: var(--fill-color);\n",
              "    }\n",
              "    60% {\n",
              "      border-color: transparent;\n",
              "      border-right-color: var(--fill-color);\n",
              "    }\n",
              "    80% {\n",
              "      border-color: transparent;\n",
              "      border-right-color: var(--fill-color);\n",
              "      border-bottom-color: var(--fill-color);\n",
              "    }\n",
              "    90% {\n",
              "      border-color: transparent;\n",
              "      border-bottom-color: var(--fill-color);\n",
              "    }\n",
              "  }\n",
              "</style>\n",
              "\n",
              "  <script>\n",
              "    async function quickchart(key) {\n",
              "      const quickchartButtonEl =\n",
              "        document.querySelector('#' + key + ' button');\n",
              "      quickchartButtonEl.disabled = true;  // To prevent multiple clicks.\n",
              "      quickchartButtonEl.classList.add('colab-df-spinner');\n",
              "      try {\n",
              "        const charts = await google.colab.kernel.invokeFunction(\n",
              "            'suggestCharts', [key], {});\n",
              "      } catch (error) {\n",
              "        console.error('Error during call to suggestCharts:', error);\n",
              "      }\n",
              "      quickchartButtonEl.classList.remove('colab-df-spinner');\n",
              "      quickchartButtonEl.classList.add('colab-df-quickchart-complete');\n",
              "    }\n",
              "    (() => {\n",
              "      let quickchartButtonEl =\n",
              "        document.querySelector('#df-b282f23e-c131-4584-ba02-1ac07cc68367 button');\n",
              "      quickchartButtonEl.style.display =\n",
              "        google.colab.kernel.accessAllowed ? 'block' : 'none';\n",
              "    })();\n",
              "  </script>\n",
              "</div>\n",
              "\n",
              "    </div>\n",
              "  </div>\n"
            ],
            "application/vnd.google.colaboratory.intrinsic+json": {
              "type": "dataframe",
              "variable_name": "df",
              "summary": "{\n  \"name\": \"df\",\n  \"rows\": 10002,\n  \"fields\": [\n    {\n      \"column\": \"Uid\",\n      \"properties\": {\n        \"dtype\": \"string\",\n        \"num_unique_values\": 10002,\n        \"samples\": [\n          \"T8607\",\n          \"G4685\",\n          \"T1732\"\n        ],\n        \"semantic_type\": \"\",\n        \"description\": \"\"\n      }\n    },\n    {\n      \"column\": \"Name\",\n      \"properties\": {\n        \"dtype\": \"string\",\n        \"num_unique_values\": 9930,\n        \"samples\": [\n          \"Busch 1512 Farm Shop HO Structure Scale Model Structure\",\n          \"Twisty Petz Cuddlez Snowpuff Unicorn Transforming Collectible Plush for Kids Aged 4 & Up\",\n          \"amscan Chicago Bulls NBA Collection Cuff Band, Party Favor, 36 Ct.\"\n        ],\n        \"semantic_type\": \"\",\n        \"description\": \"\"\n      }\n    },\n    {\n      \"column\": \"Category\",\n      \"properties\": {\n        \"dtype\": \"category\",\n        \"num_unique_values\": 939,\n        \"samples\": [\n          \"Home & Kitchen | Kitchen & Dining | Small Appliances | Ovens & Toasters | Toasters\",\n          \"Toys & Games | Games & Accessories | Game Accessories | Standard Game Dice\",\n          \"Toys & Games | Party Supplies | Balloons\"\n        ],\n        \"semantic_type\": \"\",\n        \"description\": \"\"\n      }\n    },\n    {\n      \"column\": \"Price\",\n      \"properties\": {\n        \"dtype\": \"number\",\n        \"std\": 71.09573792584439,\n        \"min\": 0.01,\n        \"max\": 946.75,\n        \"num_unique_values\": 3617,\n        \"samples\": [\n          30.03,\n          16.52,\n          33.35\n        ],\n        \"semantic_type\": \"\",\n        \"description\": \"\"\n      }\n    },\n    {\n      \"column\": \"Link\",\n      \"properties\": {\n        \"dtype\": \"string\",\n        \"num_unique_values\": 10002,\n        \"samples\": [\n          \"https://www.amazon.com/Tamiya-35-German-Flkpnzr-Mobelwagen/dp/B000LFQSWS\",\n          \"https://www.amazon.com/Fashion-Angels-75849-Un-Mistakables-Erasable/dp/B01FWO16D8\",\n          \"https://www.amazon.com/Hasbro-B7962-Simon-Game/dp/B01ALHAN7Q\"\n        ],\n        \"semantic_type\": \"\",\n        \"description\": \"\"\n      }\n    },\n    {\n      \"column\": \"Age Group\",\n      \"properties\": {\n        \"dtype\": \"category\",\n        \"num_unique_values\": 3,\n        \"samples\": [\n          \"General\",\n          \"8-12 years\",\n          \"13+ years\"\n        ],\n        \"semantic_type\": \"\",\n        \"description\": \"\"\n      }\n    }\n  ]\n}"
            }
          },
          "metadata": {},
          "execution_count": 57
        }
      ]
    },
    {
      "cell_type": "markdown",
      "source": [
        "# **Analysis**"
      ],
      "metadata": {
        "id": "qHMyEODDLk85"
      }
    },
    {
      "cell_type": "code",
      "source": [
        "import matplotlib.pyplot as plt\n",
        "\n",
        "plt.figure(figsize=(10,5))\n",
        "df[\"Price\"].plot(kind=\"hist\", bins=50, edgecolor=\"black\")\n",
        "plt.xlabel(\"Price\")\n",
        "plt.ylabel(\"Number of Products\")\n",
        "plt.title(\"Price Distribution\")\n",
        "plt.show()\n"
      ],
      "metadata": {
        "colab": {
          "base_uri": "https://localhost:8080/",
          "height": 487
        },
        "id": "cbmtJOBXMD8V",
        "outputId": "7039e472-d6f0-473e-d9e6-106ed02cc997"
      },
      "execution_count": 63,
      "outputs": [
        {
          "output_type": "display_data",
          "data": {
            "text/plain": [
              "<Figure size 1000x500 with 1 Axes>"
            ],
            "image/png": "[encoded data removed]"
          },
          "metadata": {}
        }
      ]
    },
    {
      "cell_type": "code",
      "source": [
        "import seaborn as sns\n",
        "\n",
        "plt.figure(figsize=(8,5))\n",
        "sns.countplot(y=df[\"Age Group\"], order=df[\"Age Group\"].value_counts().index)\n",
        "plt.title(\"Products Count per Age Group\")\n",
        "plt.show()\n"
      ],
      "metadata": {
        "colab": {
          "base_uri": "https://localhost:8080/",
          "height": 487
        },
        "id": "LyU9lPudOpcu",
        "outputId": "07130012-0550-4850-ec3a-21557a3f3b2c"
      },
      "execution_count": 64,
      "outputs": [
        {
          "output_type": "display_data",
          "data": {
            "text/plain": [
              "<Figure size 800x500 with 1 Axes>"
            ],
            "image/png": "[encoded data removed]"
          },
          "metadata": {}
        }
      ]
    },
    {
      "cell_type": "code",
      "source": [],
      "metadata": {
        "id": "C9vfmLjLO7Sl"
      },
      "execution_count": null,
      "outputs": []
    }
  ]
}